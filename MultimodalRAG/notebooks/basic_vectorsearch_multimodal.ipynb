{
 "cells": [
  {
   "cell_type": "code",
   "execution_count": 1,
   "id": "ef285ded",
   "metadata": {},
   "outputs": [],
   "source": [
    "from pymongo import MongoClient\n",
    "import os\n",
    "import yaml\n",
    "from pprint import pprint"
   ]
  },
  {
   "cell_type": "code",
   "execution_count": 2,
   "id": "0dea2508",
   "metadata": {},
   "outputs": [],
   "source": [
    "import sys\n",
    "import os\n",
    "# Agregar el directorio 'src' al PYTHONPATH\n",
    "sys.path.append(os.path.abspath(os.path.join(os.getcwd(), '../src')))"
   ]
  },
  {
   "cell_type": "code",
   "execution_count": 3,
   "id": "725aa670",
   "metadata": {},
   "outputs": [
    {
     "name": "stderr",
     "output_type": "stream",
     "text": [
      "\u001b[32m2025-09-28 12:39:29.685\u001b[0m | \u001b[1mINFO    \u001b[0m | \u001b[36mutils.mongo_client\u001b[0m:\u001b[36m_check_connection\u001b[0m:\u001b[36m68\u001b[0m - \u001b[1m[MongoClient] Checking MongoDB connection...\u001b[0m\n",
      "\u001b[32m2025-09-28 12:39:30.939\u001b[0m | \u001b[1mINFO    \u001b[0m | \u001b[36mutils.mongo_client\u001b[0m:\u001b[36m_check_connection\u001b[0m:\u001b[36m70\u001b[0m - \u001b[1m[MongoClient] MongoDB connection successful.\u001b[0m\n",
      "\u001b[32m2025-09-28 12:39:30.941\u001b[0m | \u001b[1mINFO    \u001b[0m | \u001b[36mutils.mongo_client\u001b[0m:\u001b[36m_verify_database_exists\u001b[0m:\u001b[36m34\u001b[0m - \u001b[1m[MongoClient] Checking database existence...\u001b[0m\n",
      "\u001b[32m2025-09-28 12:39:31.064\u001b[0m | \u001b[1mINFO    \u001b[0m | \u001b[36mutils.mongo_client\u001b[0m:\u001b[36m_verify_database_exists\u001b[0m:\u001b[36m39\u001b[0m - \u001b[1m[MongoClient] Database 'multimodal-rag' exists.\u001b[0m\n",
      "\u001b[32m2025-09-28 12:39:31.067\u001b[0m | \u001b[1mINFO    \u001b[0m | \u001b[36mutils.mongo_client\u001b[0m:\u001b[36m_verify_collection_exists\u001b[0m:\u001b[36m43\u001b[0m - \u001b[1m[MongoClient] Checking collection existence...\u001b[0m\n",
      "\u001b[32m2025-09-28 12:39:31.151\u001b[0m | \u001b[1mINFO    \u001b[0m | \u001b[36mutils.mongo_client\u001b[0m:\u001b[36m_verify_collection_exists\u001b[0m:\u001b[36m48\u001b[0m - \u001b[1m[MongoClient] Collection 'multimodal-rag' exists.\u001b[0m\n",
      "\u001b[32m2025-09-28 12:39:31.152\u001b[0m | \u001b[1mINFO    \u001b[0m | \u001b[36mutils.mongo_client\u001b[0m:\u001b[36m_verify_vector_index_exists\u001b[0m:\u001b[36m52\u001b[0m - \u001b[1m[MongoClient] Checking vector index existence...\u001b[0m\n",
      "\u001b[32m2025-09-28 12:39:31.365\u001b[0m | \u001b[1mINFO    \u001b[0m | \u001b[36mutils.mongo_client\u001b[0m:\u001b[36m_verify_vector_index_exists\u001b[0m:\u001b[36m63\u001b[0m - \u001b[1m[MongoClient] Vector index 'vector_search_index' exists.\u001b[0m\n"
     ]
    }
   ],
   "source": [
    "from utils.mongo_client import MongoClient\n",
    "mongo = MongoClient()"
   ]
  },
  {
   "cell_type": "markdown",
   "id": "2eb2cbb0",
   "metadata": {},
   "source": [
    "#### Vector Query"
   ]
  },
  {
   "cell_type": "code",
   "execution_count": 4,
   "id": "c556d2a6",
   "metadata": {},
   "outputs": [],
   "source": [
    "# Step -1: Create the Vector Index (Vector Search Model)\n",
    "from pymongo.operations import SearchIndexModel"
   ]
  },
  {
   "cell_type": "markdown",
   "id": "3feedc11",
   "metadata": {},
   "source": [
    "        {\n",
    "        \"fields\":[\n",
    "            {\n",
    "            \"type\": \"vector\",\n",
    "            \"path\": \"<field-to-index>\",\n",
    "            \"numDimensions\": <number-of-dimensions>,\n",
    "            \"similarity\": \"euclidean | cosine | dotProduct\",\n",
    "            \"quantization\": \"none | scalar | binary\",\n",
    "            \"hnswOptions\": {\n",
    "                \"maxEdges\": <number-of-connected-neighbors>,\n",
    "                \"numEdgeCandidates\": <number-of-nearest-neighbors>\n",
    "            }\n",
    "        ]\n",
    "        }"
   ]
  },
  {
   "cell_type": "markdown",
   "id": "9e4c3571",
   "metadata": {},
   "source": [
    "## Vector Search Multimodal "
   ]
  },
  {
   "cell_type": "markdown",
   "id": "71244ccf",
   "metadata": {},
   "source": [
    "## Modelo de definición para un índice de Búsqueda Vectorial Multimodal en MongoDB Atlas\n",
    "### Búsqueda Multimodal e Híbrida\n",
    "Se crea un índice de búsqueda ultra-rápido sobre un campo específico para encontrar similitud de significado, sin importar si el dato original era texto o imagen.\n",
    "\n"
   ]
  },
  {
   "cell_type": "markdown",
   "id": "3fc099ea",
   "metadata": {},
   "source": [
    "### Configuración General\n",
    "La línea type=\"vectorSearch\" es fundamental. Le indica a MongoDB que este índice debe usar los nodos de búsqueda dedicados de Atlas Search, los cuales están optimizados para manejar datos vectoriales de alto rendimiento.\n",
    "\n",
    "### Mapeo de Campos (mappings)\n",
    "Dentro de la sección definition, se especifica exactamente cómo debe tratarse la información en tu colección:\n",
    "\n",
    "- Indexación Dinámica (\"dynamic\": True): Esta directiva le permite a MongoDB indexar automáticamente todos los demás campos de tus documentos (como doc_path, image_path o type) que no están listados explícitamente. Esto es esencial para que puedas usar estos metadatos en la etapa de proyección ($project) más adelante.\n",
    "\n",
    "- Campo de Búsqueda Vectorial (multimodal_embedding): Este es el corazón de tu estrategia.\n",
    "\n",
    "Unificación: Se asume que este campo único contiene los embeddings generados por tu modelo multimodal (como CLIP) para ambos datos: los chunks de texto y las descripciones verbalizadas de las imágenes.\n",
    "\n",
    "- Tipo (\"knnVector\"): Este tipo de dato activa el algoritmo de k-NN (Vecinos Más Cercanos), que organiza tus vectores en una estructura de grafo (como HNSW) para encontrar la similitud de significado de manera extremadamente rápida.\n",
    "\n",
    "- Dimensiones (\"dimensions\": 768): Especifica que cada vector en este campo debe ser un array de 512 números. Es crucial que este valor coincida con la salida de tu modelo de embeddings.\n",
    "\n",
    "- Métrica (\"similarity\": \"cosine\"): Indica que la cercanía entre los vectores se medirá usando la similitud de coseno, que es la métrica estándar para comparar la dirección de los embeddings y determinar su significado semántico.\n",
    "\n",
    "#### En resumen:\n",
    "Al ejecutar este código, le estás ordenando a MongoDB construir un mapa de significado de toda tu data. Una vez creado el índice, una sola consulta de texto podrá ser comparada con el campo multimodal_embedding y te devolverá los documentos de texto y las imágenes más relevantes de forma simultánea."
   ]
  },
  {
   "cell_type": "code",
   "execution_count": null,
   "id": "5ceb4579",
   "metadata": {},
   "outputs": [],
   "source": [
    "search_multi_vector_model = SearchIndexModel(\n",
    "    name=\"multi_vector_index\",\n",
    "    type=\"vectorSearch\", # Añadir el tipo global del índice\n",
    "    definition= {\n",
    "        \"mappings\": { # <--- 'mappings' debe estar al nivel superior de 'definition'\n",
    "            \"dynamic\": True,\n",
    "            \"fields\": {\n",
    "                \"multimodal_embedding\": {\n",
    "                    \"type\": \"knnVector\",\n",
    "                    \"dimensions\": 768, \n",
    "                    \"similarity\": \"cosine\" \n",
    "                }\n",
    "            }\n",
    "        }\n",
    "    }\n",
    ")"
   ]
  },
  {
   "cell_type": "code",
   "execution_count": null,
   "id": "3677dd3e",
   "metadata": {},
   "outputs": [],
   "source": [
    "mongo.collection.create_search_index(search_multi_vector_model)"
   ]
  },
  {
   "cell_type": "code",
   "execution_count": null,
   "id": "4f329ebb",
   "metadata": {},
   "outputs": [],
   "source": [
    "vectorsearch_multimodal_pipeline = [\n",
    "  {\n",
    "    \"$vectorSearch\": {\n",
    "      \"index\": \"multi_vector_index\", \n",
    "      \"path\": \"multimodal_embedding\", \n",
    "      \"queryVector\": [\n",
    "        \n",
    "      ],\n",
    "      \"numCandidates\": 20,\n",
    "      \"limit\": 5\n",
    "    }\n",
    "  },\n",
    "  {\n",
    "    \"$project\": {\n",
    "      \"_id\": 0, \n",
    "      \"chunk_text\": 1, \n",
    "      \"doc_path\": 1, \n",
    "      \"image_path\": 1, \n",
    "      \"type\": 1,\n",
    "      \"score\": {\n",
    "        \"$meta\": \"vectorSearchScore\"\n",
    "      }\n",
    "    }\n",
    "  }\n",
    "]\n",
    "\n",
    "results = mongo.collection.aggregate(vectorsearch_multimodal_pipeline)\n",
    "# print the results\n",
    "pprint(list(results))"
   ]
  }
 ],
 "metadata": {
  "kernelspec": {
   "display_name": "venv",
   "language": "python",
   "name": "python3"
  },
  "language_info": {
   "codemirror_mode": {
    "name": "ipython",
    "version": 3
   },
   "file_extension": ".py",
   "mimetype": "text/x-python",
   "name": "python",
   "nbconvert_exporter": "python",
   "pygments_lexer": "ipython3",
   "version": "3.10.0"
  }
 },
 "nbformat": 4,
 "nbformat_minor": 5
}
